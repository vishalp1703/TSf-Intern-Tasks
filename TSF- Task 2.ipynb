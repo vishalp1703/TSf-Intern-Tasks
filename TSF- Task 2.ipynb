{
 "cells": [
  {
   "cell_type": "markdown",
   "id": "d3d1297a",
   "metadata": {},
   "source": [
    "## The Sparks Foundation - Internship"
   ]
  },
  {
   "cell_type": "markdown",
   "id": "ca8b6c35",
   "metadata": {},
   "source": [
    "## Lakshit Gupta"
   ]
  },
  {
   "cell_type": "markdown",
   "id": "4c70089e",
   "metadata": {},
   "source": [
    "## Data Science And Business Analytics"
   ]
  },
  {
   "cell_type": "markdown",
   "id": "a71b627d",
   "metadata": {},
   "source": [
    "## Task 2"
   ]
  },
  {
   "cell_type": "markdown",
   "id": "f7f90611",
   "metadata": {},
   "source": [
    "Task Goal: From the given 'Iris' dataset, predict optimum number of clusters and represent it visually"
   ]
  },
  {
   "cell_type": "markdown",
   "id": "6cc65a14",
   "metadata": {},
   "source": [
    "Dataset Info: Iris Dataset contains 4 features of Iris (Iris Setosa, Iris Versicolor, Iris Virginica)"
   ]
  },
  {
   "cell_type": "markdown",
   "id": "02c5940a",
   "metadata": {},
   "source": [
    "### Importing Necessary Libraries/Modules"
   ]
  },
  {
   "cell_type": "code",
   "execution_count": 1,
   "id": "025b1386",
   "metadata": {},
   "outputs": [],
   "source": [
    "import numpy as np\n",
    "import pandas as pd\n",
    "import matplotlib.pyplot as plt\n",
    "%matplotlib inline"
   ]
  },
  {
   "cell_type": "markdown",
   "id": "777c52ae",
   "metadata": {},
   "source": [
    "## Loading the Dataset"
   ]
  },
  {
   "cell_type": "code",
   "execution_count": 2,
   "id": "50229119",
   "metadata": {},
   "outputs": [
    {
     "data": {
      "text/html": [
       "<div>\n",
       "<style scoped>\n",
       "    .dataframe tbody tr th:only-of-type {\n",
       "        vertical-align: middle;\n",
       "    }\n",
       "\n",
       "    .dataframe tbody tr th {\n",
       "        vertical-align: top;\n",
       "    }\n",
       "\n",
       "    .dataframe thead th {\n",
       "        text-align: right;\n",
       "    }\n",
       "</style>\n",
       "<table border=\"1\" class=\"dataframe\">\n",
       "  <thead>\n",
       "    <tr style=\"text-align: right;\">\n",
       "      <th></th>\n",
       "      <th>Id</th>\n",
       "      <th>SepalLengthCm</th>\n",
       "      <th>SepalWidthCm</th>\n",
       "      <th>PetalLengthCm</th>\n",
       "      <th>PetalWidthCm</th>\n",
       "      <th>Species</th>\n",
       "    </tr>\n",
       "  </thead>\n",
       "  <tbody>\n",
       "    <tr>\n",
       "      <th>0</th>\n",
       "      <td>1</td>\n",
       "      <td>5.1</td>\n",
       "      <td>3.5</td>\n",
       "      <td>1.4</td>\n",
       "      <td>0.2</td>\n",
       "      <td>Iris-setosa</td>\n",
       "    </tr>\n",
       "    <tr>\n",
       "      <th>1</th>\n",
       "      <td>2</td>\n",
       "      <td>4.9</td>\n",
       "      <td>3.0</td>\n",
       "      <td>1.4</td>\n",
       "      <td>0.2</td>\n",
       "      <td>Iris-setosa</td>\n",
       "    </tr>\n",
       "    <tr>\n",
       "      <th>2</th>\n",
       "      <td>3</td>\n",
       "      <td>4.7</td>\n",
       "      <td>3.2</td>\n",
       "      <td>1.3</td>\n",
       "      <td>0.2</td>\n",
       "      <td>Iris-setosa</td>\n",
       "    </tr>\n",
       "    <tr>\n",
       "      <th>3</th>\n",
       "      <td>4</td>\n",
       "      <td>4.6</td>\n",
       "      <td>3.1</td>\n",
       "      <td>1.5</td>\n",
       "      <td>0.2</td>\n",
       "      <td>Iris-setosa</td>\n",
       "    </tr>\n",
       "    <tr>\n",
       "      <th>4</th>\n",
       "      <td>5</td>\n",
       "      <td>5.0</td>\n",
       "      <td>3.6</td>\n",
       "      <td>1.4</td>\n",
       "      <td>0.2</td>\n",
       "      <td>Iris-setosa</td>\n",
       "    </tr>\n",
       "  </tbody>\n",
       "</table>\n",
       "</div>"
      ],
      "text/plain": [
       "   Id  SepalLengthCm  SepalWidthCm  PetalLengthCm  PetalWidthCm      Species\n",
       "0   1            5.1           3.5            1.4           0.2  Iris-setosa\n",
       "1   2            4.9           3.0            1.4           0.2  Iris-setosa\n",
       "2   3            4.7           3.2            1.3           0.2  Iris-setosa\n",
       "3   4            4.6           3.1            1.5           0.2  Iris-setosa\n",
       "4   5            5.0           3.6            1.4           0.2  Iris-setosa"
      ]
     },
     "execution_count": 2,
     "metadata": {},
     "output_type": "execute_result"
    }
   ],
   "source": [
    "data = pd.read_csv('Iris.csv')\n",
    "data.head()"
   ]
  },
  {
   "cell_type": "markdown",
   "id": "ccade594",
   "metadata": {},
   "source": [
    "#### Now it is time to find the optimum number of clusters for K-Means Classification"
   ]
  },
  {
   "cell_type": "code",
   "execution_count": 3,
   "id": "0210bee5",
   "metadata": {},
   "outputs": [],
   "source": [
    "X = data.iloc[:, [0, 1, 2, 3]].values\n",
    "\n",
    "from sklearn.cluster import KMeans\n",
    "clust = []\n",
    "\n",
    "for i in range(1, 11):\n",
    "    kmeans = KMeans(n_clusters = i, init = 'k-means++',\n",
    "                   max_iter = 300, n_init = 10, random_state = 0)\n",
    "    kmeans.fit(X)\n",
    "    clust.append(kmeans.inertia_)"
   ]
  },
  {
   "cell_type": "markdown",
   "id": "b7873de6",
   "metadata": {},
   "source": [
    "#### It is now time to plot line graph for the above result and observe the line and identify the point where cluster elbow occurs"
   ]
  },
  {
   "cell_type": "code",
   "execution_count": 4,
   "id": "23034ef8",
   "metadata": {},
   "outputs": [
    {
     "data": {
      "image/png": "[encoded data removed]",
      "text/plain": [
       "<Figure size 432x288 with 1 Axes>"
      ]
     },
     "metadata": {
      "needs_background": "light"
     },
     "output_type": "display_data"
    }
   ],
   "source": [
    "plt.plot(range(1,11),clust)\n",
    "plt.title('The Elbow Method')\n",
    "plt.xlabel('Number of clusters')\n",
    "plt.ylabel('WCSS') # Within cluster sum of squares\n",
    "plt.show()"
   ]
  },
  {
   "cell_type": "markdown",
   "id": "3eb52abd",
   "metadata": {},
   "source": [
    "With the help of Elbow method we can observe that and elbow point is visible in the graph. The optimum number of cluster is where the elbow occurs."
   ]
  },
  {
   "cell_type": "markdown",
   "id": "8db3f4ad",
   "metadata": {},
   "source": [
    "So in our case the optimum number of cluster is 3"
   ]
  },
  {
   "cell_type": "markdown",
   "id": "9820829b",
   "metadata": {},
   "source": [
    "#### It is now time to apply kmeans to the dataset with the optimum number of cluster"
   ]
  },
  {
   "cell_type": "code",
   "execution_count": 6,
   "id": "52cf1c10",
   "metadata": {},
   "outputs": [],
   "source": [
    "k_means = KMeans(n_clusters=3, init = 'k-means++', max_iter=300, n_init=10, random_state=0)\n",
    "pred_kmeans = k_means.fit_predict(X)"
   ]
  },
  {
   "cell_type": "markdown",
   "id": "0b901cbd",
   "metadata": {},
   "source": [
    "Since we have made predictions based on the optimum number of clusters and fitted the model, let us now visually represent the result interpreted."
   ]
  },
  {
   "cell_type": "code",
   "execution_count": 7,
   "id": "904ab0a7",
   "metadata": {},
   "outputs": [
    {
     "data": {
      "text/plain": [
       "<matplotlib.legend.Legend at 0x11788bc8>"
      ]
     },
     "execution_count": 7,
     "metadata": {},
     "output_type": "execute_result"
    },
    {
     "data": {
      "image/png": "[encoded data removed]",
      "text/plain": [
       "<Figure size 432x288 with 1 Axes>"
      ]
     },
     "metadata": {
      "needs_background": "light"
     },
     "output_type": "display_data"
    }
   ],
   "source": [
    "plt.scatter(X[pred_kmeans == 0, 0], X[pred_kmeans == 0, 1], s = 100, c = 'red', label = 'Iris Setosa')\n",
    "plt.scatter(X[pred_kmeans == 1, 0], X[pred_kmeans == 1, 1], s = 100, c = 'green', label = 'Iris Versicolor')\n",
    "plt.scatter(X[pred_kmeans == 2, 0], X[pred_kmeans == 2, 1], s = 100, c = 'blue', label = 'Iris Virginica')\n",
    "\n",
    "# Plotting the centroids of the clusters\n",
    "plt.scatter(k_means.cluster_centers_[:, 0], k_means.cluster_centers_[:, 1], s =100, c = 'black', label = 'Centroids')\n",
    "plt.legend()"
   ]
  },
  {
   "cell_type": "markdown",
   "id": "d6db00e5",
   "metadata": {},
   "source": [
    "From the above plot it is clear that there are 3 clusters and each has centroids that are represented with black color."
   ]
  }
 ],
 "metadata": {
  "kernelspec": {
   "display_name": "Python 3",
   "language": "python",
   "name": "python3"
  },
  "language_info": {
   "codemirror_mode": {
    "name": "ipython",
    "version": 3
   },
   "file_extension": ".py",
   "mimetype": "text/x-python",
   "name": "python",
   "nbconvert_exporter": "python",
   "pygments_lexer": "ipython3",
   "version": "3.8.0"
  }
 },
 "nbformat": 4,
 "nbformat_minor": 5
}
